{
 "cells": [
  {
   "cell_type": "code",
   "execution_count": 1,
   "id": "ac8ac8f5",
   "metadata": {},
   "outputs": [],
   "source": [
    "import os\n",
    "import argparse\n",
    "import cv2\n",
    "import re\n",
    "\n",
    "import cv2\n",
    "import matplotlib.pyplot as plt\n",
    "import shutil\n",
    "import numpy as np"
   ]
  },
  {
   "cell_type": "code",
   "execution_count": 33,
   "id": "257fb5d1",
   "metadata": {},
   "outputs": [],
   "source": [
    "def get_saving_frames_duration(cap,saving_fps):\n",
    "    duration=cap.get(cv2.CAP_PROP_FRAME_COUNT)/cap.get(cv2.CAP_PROP_FPS)\n",
    "    print(duration)\n",
    "    s=[]\n",
    "    for i in np.arange(0,duration,1/saving_fps):\n",
    "        s.append(i)\n",
    "    return s\n",
    "\n",
    "def save_frames(vid_obj,file_name,s):\n",
    "    \n",
    "    counter=0\n",
    "    sucess=1\n",
    "    frame_number=0\n",
    "       \n",
    "    fps=vid_obj.get(cv2.CAP_PROP_FPS)\n",
    "    while sucess:\n",
    "        sucess,image=vid_obj.read()\n",
    "        image = cv2.rotate(image, cv2.ROTATE_180)\n",
    "        if not sucess:break\n",
    "    \n",
    "        frame_duration=counter/fps\n",
    "        try:\n",
    "            closest_duration=s[0]\n",
    "        except:\n",
    "            break\n",
    "        if frame_duration>=closest_duration:\n",
    "            #f=file_name.split(\" \")[2]\n",
    "            name=file_name+\"_\"+str(frame_number)+\".jpg\"\n",
    "            cv2.imwrite(os.path.join('Images/'+file_name,name),image)\n",
    "            frame_number+=1\n",
    "            try:\n",
    "                s.pop(0)\n",
    "            except:\n",
    "                pass\n",
    "        counter+=1\n",
    "if os.path.exists('Images'):\n",
    "  shutil.rmtree(\"Images\")\n",
    "os.mkdir(\"Images\")\n",
    "def get_frames():\n",
    "    files=os.listdir('Videos/')\n",
    "    file_names=[file.split('.')[0] for file in files if 'mp4' in file]\n",
    "    \n",
    "    for file_name in file_names:\n",
    "        vid_obj=cv2.VideoCapture(os.path.join('Videos',file_name+'.mp4'))\n",
    "        \n",
    "        s=get_saving_frames_duration(vid_obj,5)\n",
    "        \n",
    "        #f=file_name.split(\" \")[2]\n",
    "        if os.path.exists(os.path.join('Images',file_name)):\n",
    "            shutil.rmtree(os.path.join('Images',file_name))\n",
    "        os.mkdir(os.path.join('Images',file_name))\n",
    "        save_frames(vid_obj,file_name,s)    "
   ]
  },
  {
   "cell_type": "code",
   "execution_count": 34,
   "id": "551af988",
   "metadata": {},
   "outputs": [
    {
     "name": "stdout",
     "output_type": "stream",
     "text": [
      "14.749033333333333\n",
      "11.186633333333333\n"
     ]
    }
   ],
   "source": [
    "get_frames()"
   ]
  },
  {
   "cell_type": "code",
   "execution_count": null,
   "id": "7432388b",
   "metadata": {},
   "outputs": [],
   "source": []
  }
 ],
 "metadata": {
  "hide_input": false,
  "kernelspec": {
   "display_name": "Python 3",
   "language": "python",
   "name": "python3"
  },
  "language_info": {
   "codemirror_mode": {
    "name": "ipython",
    "version": 3
   },
   "file_extension": ".py",
   "mimetype": "text/x-python",
   "name": "python",
   "nbconvert_exporter": "python",
   "pygments_lexer": "ipython3",
   "version": "3.8.8"
  },
  "toc": {
   "base_numbering": 1,
   "nav_menu": {},
   "number_sections": true,
   "sideBar": true,
   "skip_h1_title": false,
   "title_cell": "Table of Contents",
   "title_sidebar": "Contents",
   "toc_cell": false,
   "toc_position": {},
   "toc_section_display": true,
   "toc_window_display": false
  }
 },
 "nbformat": 4,
 "nbformat_minor": 5
}
