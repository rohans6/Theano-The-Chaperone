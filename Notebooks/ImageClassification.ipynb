{
 "cells": [
  {
   "cell_type": "code",
   "execution_count": 18,
   "id": "47586ded",
   "metadata": {},
   "outputs": [],
   "source": [
    "import os\n",
    "import shutil \n",
    "import pandas as pd\n",
    "import numpy as np\n",
    "import matplotlib.pyplot as plt\n",
    "import tensorflow as tf\n",
    "import csv\n",
    "from sklearn.model_selection import train_test_split"
   ]
  },
  {
   "cell_type": "code",
   "execution_count": null,
   "id": "b2dc2fcd",
   "metadata": {},
   "outputs": [],
   "source": [
    "# Task 1 is to make a csv file of imagename, label"
   ]
  },
  {
   "cell_type": "code",
   "execution_count": 3,
   "id": "a375d90f",
   "metadata": {},
   "outputs": [],
   "source": [
    "# Global Variables\n",
    "images_folder='Images/'"
   ]
  },
  {
   "cell_type": "code",
   "execution_count": 7,
   "id": "ce6203a1",
   "metadata": {},
   "outputs": [],
   "source": [
    "data=[]\n",
    "with open('file.csv','w') as file_object:\n",
    "    csvwriter=csv.writer(file_object)\n",
    "    csvwriter.writerow(['ImageName','Label'])\n",
    "    for folder in os.listdir(images_folder):\n",
    "        for file in os.listdir(os.path.join(images_folder,folder)):\n",
    "            image_path=os.path.join(images_folder,folder,file)\n",
    "            data.append([image_path,folder])\n",
    "    csvwriter.writerows(data)\n",
    "    "
   ]
  },
  {
   "cell_type": "code",
   "execution_count": 37,
   "id": "77c029ba",
   "metadata": {},
   "outputs": [],
   "source": [
    "file=pd.read_csv('file.csv')\n",
    "file['Label']=file['Label'].replace({'Showcase1':0,'Showcase2':1})\n",
    "X_train,X_test,y_train,y_test=train_test_split(file['ImageName'],file['Label'],random_state=42,test_size=0.2)\n",
    "\n",
    "train_dataset=tf.data.Dataset.from_tensor_slices((X_train,y_train))\n",
    "test_dataset=tf.data.Dataset.from_tensor_slices((X_test,y_test))"
   ]
  },
  {
   "cell_type": "code",
   "execution_count": 38,
   "id": "47419d19",
   "metadata": {},
   "outputs": [],
   "source": [
    "def read_image(image,label):\n",
    "  image=tf.io.read_file(image)\n",
    "  image=tf.image.decode_jpeg(image)\n",
    "  image=tf.image.resize(image,(224,224))\n",
    "  label=tf.reshape(label,(-1,1))\n",
    "  image=tf.cast(image/255.0,dtype=tf.float32)\n",
    "  target=tf.cast(label,dtype=tf.int64)\n",
    "  return image,target\n",
    "\n",
    "\n",
    "train_dataset=train_dataset.map(read_image)\n",
    "test_dataset=test_dataset.map(read_image)"
   ]
  },
  {
   "cell_type": "code",
   "execution_count": 39,
   "id": "3786237c",
   "metadata": {},
   "outputs": [],
   "source": [
    "train_dataset=train_dataset.batch(8)\n",
    "test_dataset=test_dataset.batch(8)"
   ]
  },
  {
   "cell_type": "code",
   "execution_count": 40,
   "id": "64d3f915",
   "metadata": {},
   "outputs": [
    {
     "name": "stdout",
     "output_type": "stream",
     "text": [
      "Model: \"FeatureExtractionModel\"\n",
      "_________________________________________________________________\n",
      " Layer (type)                Output Shape              Param #   \n",
      "=================================================================\n",
      " inputLayer (InputLayer)     [(None, 224, 224, 3)]     0         \n",
      "                                                                 \n",
      " efficientnetb0 (Functional)  (None, None, None, 1280)  4049571  \n",
      "                                                                 \n",
      " poolingLayer (GlobalAverage  (None, 1280)             0         \n",
      " Pooling2D)                                                      \n",
      "                                                                 \n",
      " outputLayer (Dense)         (None, 1)                 1281      \n",
      "                                                                 \n",
      " activationLayer (Activation  (None, 1)                0         \n",
      " )                                                               \n",
      "                                                                 \n",
      "=================================================================\n",
      "Total params: 4,050,852\n",
      "Trainable params: 4,008,829\n",
      "Non-trainable params: 42,023\n",
      "_________________________________________________________________\n",
      "None\n"
     ]
    }
   ],
   "source": [
    "base_model = tf.keras.applications.efficientnet.EfficientNetB0(include_top=False)\n",
    "from tensorflow.keras import layers\n",
    "\n",
    "inputs = layers.Input(shape = (224,224,3), name='inputLayer')\n",
    "x = base_model(inputs, training = False)\n",
    "x = layers.GlobalAveragePooling2D(name='poolingLayer')(x)\n",
    "x = layers.Dense(1, name='outputLayer')(x)\n",
    "outputs = layers.Activation(activation=\"sigmoid\", dtype=tf.float32, name='activationLayer')(x)\n",
    "\n",
    "model = tf.keras.Model(inputs, outputs, name = \"FeatureExtractionModel\")\n",
    "\n",
    "print(model.summary())"
   ]
  },
  {
   "cell_type": "code",
   "execution_count": 41,
   "id": "25e8e218",
   "metadata": {},
   "outputs": [
    {
     "name": "stdout",
     "output_type": "stream",
     "text": [
      "Epoch 1/15\n",
      "13/13 [==============================] - 78s 2s/step - loss: 0.8879 - accuracy: 0.4327 - val_loss: 0.6946 - val_accuracy: 0.4231\n",
      "Epoch 2/15\n",
      "13/13 [==============================] - 24s 2s/step - loss: 0.6858 - accuracy: 0.4904 - val_loss: 0.6934 - val_accuracy: 0.4231\n",
      "Epoch 3/15\n",
      "13/13 [==============================] - 24s 2s/step - loss: 0.9724 - accuracy: 0.5096 - val_loss: 1.1219 - val_accuracy: 0.4231\n",
      "Epoch 4/15\n",
      "13/13 [==============================] - 23s 2s/step - loss: 3.3403 - accuracy: 0.5865 - val_loss: 1.0355 - val_accuracy: 0.4231\n",
      "Epoch 5/15\n",
      "13/13 [==============================] - 24s 2s/step - loss: 24.6771 - accuracy: 0.3750 - val_loss: 0.7125 - val_accuracy: 0.4231\n",
      "Epoch 6/15\n",
      "13/13 [==============================] - 22s 2s/step - loss: 7.3906 - accuracy: 0.5096 - val_loss: 0.6828 - val_accuracy: 0.5769\n",
      "Epoch 7/15\n",
      "13/13 [==============================] - 24s 2s/step - loss: 0.7324 - accuracy: 0.5288 - val_loss: 0.6926 - val_accuracy: 0.5769\n",
      "Epoch 8/15\n",
      "13/13 [==============================] - 23s 2s/step - loss: 0.6928 - accuracy: 0.5673 - val_loss: 0.6924 - val_accuracy: 0.5769\n",
      "Epoch 9/15\n",
      "13/13 [==============================] - 23s 2s/step - loss: 0.6926 - accuracy: 0.5673 - val_loss: 0.6915 - val_accuracy: 0.5769\n",
      "Epoch 10/15\n",
      "13/13 [==============================] - 23s 2s/step - loss: 0.6931 - accuracy: 0.5481 - val_loss: 0.6913 - val_accuracy: 0.5769\n",
      "Epoch 11/15\n",
      "13/13 [==============================] - 23s 2s/step - loss: 0.6919 - accuracy: 0.5673 - val_loss: 0.6933 - val_accuracy: 0.4231\n",
      "Epoch 12/15\n",
      "13/13 [==============================] - 23s 2s/step - loss: 0.6922 - accuracy: 0.5096 - val_loss: 0.6914 - val_accuracy: 0.5769\n",
      "Epoch 13/15\n",
      "13/13 [==============================] - 23s 2s/step - loss: 0.6916 - accuracy: 0.5673 - val_loss: 0.6911 - val_accuracy: 0.5769\n",
      "Epoch 14/15\n",
      "13/13 [==============================] - 23s 2s/step - loss: 0.6915 - accuracy: 0.5673 - val_loss: 0.6909 - val_accuracy: 0.5769\n",
      "Epoch 15/15\n",
      "13/13 [==============================] - 23s 2s/step - loss: 0.6912 - accuracy: 0.5673 - val_loss: 0.6905 - val_accuracy: 0.5769\n"
     ]
    },
    {
     "data": {
      "text/plain": [
       "<keras.callbacks.History at 0x202ffb76be0>"
      ]
     },
     "execution_count": 41,
     "metadata": {},
     "output_type": "execute_result"
    }
   ],
   "source": [
    "model.compile(loss='binary_crossentropy',optimizer='adam',metrics=['accuracy'])\n",
    "model.fit(train_dataset,epochs=15,validation_data=test_dataset)"
   ]
  },
  {
   "cell_type": "code",
   "execution_count": null,
   "id": "ecac8442",
   "metadata": {},
   "outputs": [],
   "source": []
  }
 ],
 "metadata": {
  "hide_input": false,
  "kernelspec": {
   "display_name": "Python 3",
   "language": "python",
   "name": "python3"
  },
  "language_info": {
   "codemirror_mode": {
    "name": "ipython",
    "version": 3
   },
   "file_extension": ".py",
   "mimetype": "text/x-python",
   "name": "python",
   "nbconvert_exporter": "python",
   "pygments_lexer": "ipython3",
   "version": "3.8.8"
  },
  "toc": {
   "base_numbering": 1,
   "nav_menu": {},
   "number_sections": true,
   "sideBar": true,
   "skip_h1_title": false,
   "title_cell": "Table of Contents",
   "title_sidebar": "Contents",
   "toc_cell": false,
   "toc_position": {},
   "toc_section_display": true,
   "toc_window_display": false
  }
 },
 "nbformat": 4,
 "nbformat_minor": 5
}
